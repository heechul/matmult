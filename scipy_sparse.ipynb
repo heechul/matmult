{
 "cells": [
  {
   "cell_type": "code",
   "execution_count": 2,
   "metadata": {},
   "outputs": [
    {
     "name": "stdout",
     "output_type": "stream",
     "text": [
      "time taken : 1.1764061450958252\n"
     ]
    }
   ],
   "source": [
    "from scipy import sparse\n",
    "from time import time\n",
    "import random as rn\n",
    "\n",
    "N_VALUES = 1000000\n",
    "N_ROWS = N_COLS = 10000\n",
    "\n",
    "rows_a = [rn.choice(range(N_ROWS)) for i in range(N_VALUES)]\n",
    "cols_a = [rn.choice(range(N_COLS)) for i in range(N_VALUES)]\n",
    "values_a = [rn.uniform(0,1) for _ in range(N_VALUES)]\n",
    "\n",
    "rows_b = [rn.choice(range(N_ROWS)) for i in range(N_VALUES)]\n",
    "cols_b = [rn.choice(range(N_COLS)) for i in range(N_VALUES)]\n",
    "values_b = [rn.uniform(0,1) for _ in range(N_VALUES)]\n",
    "\n",
    "big_a = sparse.coo_matrix((values_a, (rows_a, cols_a)), shape=(N_ROWS, N_COLS))\n",
    "big_b = sparse.coo_matrix((values_b, (rows_b, cols_b)), shape=(N_ROWS, N_COLS))\n",
    "\n",
    "big_a = big_a.tocsr()\n",
    "big_b = big_a.tocsr()\n",
    "\n",
    "start = time()\n",
    "\n",
    "AB = big_a * big_b;\n",
    "\n",
    "end = time()\n",
    "\n",
    "print ('time taken : {}'.format(end - start))"
   ]
  }
 ],
 "metadata": {
  "kernelspec": {
   "display_name": "Python 3.10.6 64-bit",
   "language": "python",
   "name": "python3"
  },
  "language_info": {
   "codemirror_mode": {
    "name": "ipython",
    "version": 3
   },
   "file_extension": ".py",
   "mimetype": "text/x-python",
   "name": "python",
   "nbconvert_exporter": "python",
   "pygments_lexer": "ipython3",
   "version": "3.10.6"
  },
  "orig_nbformat": 4,
  "vscode": {
   "interpreter": {
    "hash": "b0fa6594d8f4cbf19f97940f81e996739fb7646882a419484c72d19e05852a7e"
   }
  }
 },
 "nbformat": 4,
 "nbformat_minor": 2
}
